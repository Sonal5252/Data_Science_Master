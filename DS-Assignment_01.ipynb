{
 "cells": [
  {
   "cell_type": "markdown",
   "metadata": {},
   "source": [
    "**Q.1 Get the lengths of three sides of triangle. Find its semi-perimeter (Formula : s = (a+b+c)/2)**"
   ]
  },
  {
   "cell_type": "code",
   "execution_count": 1,
   "metadata": {},
   "outputs": [
    {
     "name": "stdout",
     "output_type": "stream",
     "text": [
      "Semi-perimeter of the triangle is %f 9.75\n"
     ]
    }
   ],
   "source": [
    "\n",
    "\n",
    "## START CODE HERE\n",
    "a = 5.5\n",
    "b = 6.5\n",
    "c = 7.5\n",
    "\n",
    "# Remove None and replace it with your formula.\n",
    "\n",
    "s = (a + b + c)/2\n",
    "\n",
    "# Code ends here\n",
    "\n",
    "print(\"Semi-perimeter of the triangle is %f\" , s)"
   ]
  },
  {
   "cell_type": "markdown",
   "metadata": {},
   "source": [
    "<table>\n",
    "  <tr>\n",
    "  <td>**Expected Output:**<td>\n",
    "    <td>Semi-perimeter of the triangle is 9.750000</td>\n",
    "  </tr>\n",
    "</table>"
   ]
  },
  {
   "cell_type": "markdown",
   "metadata": {},
   "source": [
    "**Q.2 Given that radius of sphere is 4. Find its surface area (Formula : A=4 x π x $r^{2}$)**\n",
    "<br> Value of π you will get from math module.\n",
    "<br> For printing the output as shown in expected output refer previous question."
   ]
  },
  {
   "cell_type": "code",
   "execution_count": 2,
   "metadata": {
    "collapsed": true
   },
   "outputs": [
    {
     "name": "stdout",
     "output_type": "stream",
     "text": [
      "Surface area of sphare is :%f 201.06192982974676\n"
     ]
    }
   ],
   "source": [
    "\n",
    "\n",
    "## START CODE HERE\n",
    "from math import pi\n",
    "\n",
    "r = 4\n",
    "A = 4 * pi * r**2\n",
    "# Calculate surface area using given formula and then print it as given in the output\n",
    "\n",
    "print(\"Surface area of sphare is :%f\", A)\n",
    "\n",
    "# Code ends here"
   ]
  },
  {
   "cell_type": "markdown",
   "metadata": {},
   "source": [
    "<table>\n",
    "  <tr>\n",
    "  <td>**Expected Output:**<td>\n",
    "    <td>Surface area of sphere is 201.061930 </td>\n",
    "  </tr>\n",
    "</table>"
   ]
  },
  {
   "cell_type": "markdown",
   "metadata": {},
   "source": [
    "**Q.3 Given two sides of the triangle. Find its hypoteneuse. ($c^{2}$ = $a^{2}$ + $b^{2}$)**\n",
    "<br> Here, c is the hypoteneuse, a and b are the other 2 sides.\n",
    "<br> Use the above formula and then use sqrt to get the the value of c from $c^{2}$.\n",
    "<br> For printing the output as shown in expected output refer first question."
   ]
  },
  {
   "cell_type": "code",
   "execution_count": 4,
   "metadata": {
    "collapsed": true
   },
   "outputs": [
    {
     "name": "stdout",
     "output_type": "stream",
     "text": [
      "Hypoteneuse of the traingle is : %f 5.0\n"
     ]
    }
   ],
   "source": [
    "\n",
    "## START CODE H\n",
    "from math import sqrts\n",
    "a = 3\n",
    "b = 4\n",
    "c = sqrt(a**2 + b**2)\n",
    "print (\"Hypoteneuse of the traingle is : %f\", c)\n",
    "\n",
    "# Code ends here"
   ]
  },
  {
   "cell_type": "markdown",
   "metadata": {},
   "source": [
    "<table>\n",
    "  <tr>\n",
    "  <td>**Expected Output:**<td>\n",
    "    <td>Hypoteneuse of the triangle is 5.000000 </td>\n",
    "  </tr>\n",
    "</table>"
   ]
  },
  {
   "cell_type": "markdown",
   "metadata": {
    "collapsed": true
   },
   "source": [
    "# Thank you\n"
   ]
  },
  {
   "cell_type": "code",
   "execution_count": null,
   "metadata": {},
   "outputs": [],
   "source": []
  }
 ],
 "metadata": {
  "kernelspec": {
   "display_name": "Python 3.9.7 ('base')",
   "language": "python",
   "name": "python3"
  },
  "language_info": {
   "codemirror_mode": {
    "name": "ipython",
    "version": 3
   },
   "file_extension": ".py",
   "mimetype": "text/x-python",
   "name": "python",
   "nbconvert_exporter": "python",
   "pygments_lexer": "ipython3",
   "version": "3.9.7"
  },
  "vscode": {
   "interpreter": {
    "hash": "a94ca1389df7742c686f239248e81b26c771580d67aae5839e09cbc80db8d197"
   }
  }
 },
 "nbformat": 4,
 "nbformat_minor": 2
}
